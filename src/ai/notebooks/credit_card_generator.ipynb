{
 "cells": [
  {
   "cell_type": "code",
   "execution_count": 2,
   "metadata": {},
   "outputs": [],
   "source": [
    "import os\n",
    "import random"
   ]
  },
  {
   "cell_type": "code",
   "execution_count": 3,
   "metadata": {},
   "outputs": [],
   "source": [
    "from utils.data_generation import CreditCardGenerator\n",
    "\n",
    "# Usage example:\n",
    "# Set a seed for reproducibility\n",
    "random_seed = 42\n",
    "random.seed(random_seed)\n",
    "\n",
    "generator = CreditCardGenerator(random_seed=random_seed)\n",
    "num_cards = 500  # Generate 10 different cards\n",
    "for _ in range(num_cards):\n",
    "    background_file = os.path.join(generator.background_dir, random.choice(os.listdir(generator.background_dir)))\n",
    "    card, annotations = generator.generate_card(\n",
    "        background_file,\n",
    "        show=False\n",
    "    )"
   ]
  },
  {
   "cell_type": "code",
   "execution_count": 4,
   "metadata": {},
   "outputs": [
    {
     "name": "stdout",
     "output_type": "stream",
     "text": [
      "Found 485 annotation files\n",
      "Processed annotations written to ../data/synthetic_data/detection/paddle_ocr_det_annotations.txt\n"
     ]
    }
   ],
   "source": [
    "from utils.data_conversion import prepare_detection_dataset\n",
    "\n",
    "\n",
    "prepare_detection_dataset()"
   ]
  },
  {
   "cell_type": "code",
   "execution_count": 5,
   "metadata": {},
   "outputs": [
    {
     "name": "stdout",
     "output_type": "stream",
     "text": [
      "Processed 485 images\n"
     ]
    },
    {
     "data": {
      "text/plain": [
       "485"
      ]
     },
     "execution_count": 5,
     "metadata": {},
     "output_type": "execute_result"
    }
   ],
   "source": [
    "from utils.data_conversion import prepare_recognition_dataset\n",
    "\n",
    "\n",
    "prepare_recognition_dataset()\n"
   ]
  },
  {
   "cell_type": "code",
   "execution_count": null,
   "metadata": {},
   "outputs": [],
   "source": []
  }
 ],
 "metadata": {
  "kernelspec": {
   "display_name": "front_point_kernel",
   "language": "python",
   "name": "front_point_kernel"
  },
  "language_info": {
   "codemirror_mode": {
    "name": "ipython",
    "version": 3
   },
   "file_extension": ".py",
   "mimetype": "text/x-python",
   "name": "python",
   "nbconvert_exporter": "python",
   "pygments_lexer": "ipython3",
   "version": "3.10.16"
  }
 },
 "nbformat": 4,
 "nbformat_minor": 2
}
